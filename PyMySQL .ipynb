{
 "metadata": {
  "language_info": {
   "codemirror_mode": {
    "name": "ipython",
    "version": 3
   },
   "file_extension": ".py",
   "mimetype": "text/x-python",
   "name": "python",
   "nbconvert_exporter": "python",
   "pygments_lexer": "ipython3",
   "version": "3.9.4"
  },
  "orig_nbformat": 2,
  "kernelspec": {
   "name": "python394jvsc74a57bd0d6a8d89792227ea2b8b6dae2a2bd41c2a8a175f0913c2c5417050f479ddd1f96",
   "display_name": "Python 3.9.4 64-bit (windows store)"
  },
  "metadata": {
   "interpreter": {
    "hash": "d6a8d89792227ea2b8b6dae2a2bd41c2a8a175f0913c2c5417050f479ddd1f96"
   }
  }
 },
 "nbformat": 4,
 "nbformat_minor": 2,
 "cells": [
  {
   "cell_type": "code",
   "execution_count": 59,
   "metadata": {},
   "outputs": [],
   "source": [
    "import mysql.connector\n",
    "import pandas as pd\n",
    "#menggunakan mysql workbench"
   ]
  },
  {
   "cell_type": "code",
   "execution_count": 2,
   "metadata": {},
   "outputs": [],
   "source": [
    "mydb = mysql.connector.connect(\n",
    "    host = 'localhost',\n",
    "    user = 'root',\n",
    "    passwd = 'Berkah1234',\n",
    "    database = 'sakila'\n",
    ")"
   ]
  },
  {
   "cell_type": "code",
   "execution_count": 3,
   "metadata": {},
   "outputs": [],
   "source": [
    "mycursor = mydb.cursor()"
   ]
  },
  {
   "cell_type": "code",
   "execution_count": 4,
   "metadata": {},
   "outputs": [],
   "source": [
    "query = 'select * from film'"
   ]
  },
  {
   "cell_type": "code",
   "execution_count": 5,
   "metadata": {},
   "outputs": [],
   "source": [
    "mycursor.execute(query)"
   ]
  },
  {
   "cell_type": "code",
   "execution_count": 6,
   "metadata": {},
   "outputs": [],
   "source": [
    "result = mycursor.fetchall()"
   ]
  },
  {
   "cell_type": "code",
   "execution_count": 7,
   "metadata": {},
   "outputs": [
    {
     "output_type": "execute_result",
     "data": {
      "text/plain": [
       "   film_id             title  \\\n",
       "0        1  ACADEMY DINOSAUR   \n",
       "1        2    ACE GOLDFINGER   \n",
       "2        3  ADAPTATION HOLES   \n",
       "3        4  AFFAIR PREJUDICE   \n",
       "4        5       AFRICAN EGG   \n",
       "5        6      AGENT TRUMAN   \n",
       "6        7   AIRPLANE SIERRA   \n",
       "7        8   AIRPORT POLLOCK   \n",
       "8        9     ALABAMA DEVIL   \n",
       "9       10  ALADDIN CALENDAR   \n",
       "\n",
       "                                         description  release_year  \\\n",
       "0  A Epic Drama of a Feminist And a Mad Scientist...          2006   \n",
       "1  A Astounding Epistle of a Database Administrat...          2006   \n",
       "2  A Astounding Reflection of a Lumberjack And a ...          2006   \n",
       "3  A Fanciful Documentary of a Frisbee And a Lumb...          2006   \n",
       "4  A Fast-Paced Documentary of a Pastry Chef And ...          2006   \n",
       "5  A Intrepid Panorama of a Robot And a Boy who m...          2006   \n",
       "6  A Touching Saga of a Hunter And a Butler who m...          2006   \n",
       "7  A Epic Tale of a Moose And a Girl who must Con...          2006   \n",
       "8  A Thoughtful Panorama of a Database Administra...          2006   \n",
       "9  A Action-Packed Tale of a Man And a Lumberjack...          2006   \n",
       "\n",
       "   language_id original_language_id  rental_duration rental_rate  length  \\\n",
       "0            1                 None                6        0.99      86   \n",
       "1            1                 None                3        4.99      48   \n",
       "2            1                 None                7        2.99      50   \n",
       "3            1                 None                5        2.99     117   \n",
       "4            1                 None                6        2.99     130   \n",
       "5            1                 None                3        2.99     169   \n",
       "6            1                 None                6        4.99      62   \n",
       "7            1                 None                6        4.99      54   \n",
       "8            1                 None                3        2.99     114   \n",
       "9            1                 None                6        4.99      63   \n",
       "\n",
       "  replacement_cost rating                     special_features  \\\n",
       "0            20.99     PG  {Deleted Scenes, Behind the Scenes}   \n",
       "1            12.99      G           {Trailers, Deleted Scenes}   \n",
       "2            18.99  NC-17           {Trailers, Deleted Scenes}   \n",
       "3            26.99      G    {Commentaries, Behind the Scenes}   \n",
       "4            22.99      G                     {Deleted Scenes}   \n",
       "5            17.99     PG                     {Deleted Scenes}   \n",
       "6            28.99  PG-13           {Trailers, Deleted Scenes}   \n",
       "7            15.99      R                           {Trailers}   \n",
       "8            21.99  PG-13           {Trailers, Deleted Scenes}   \n",
       "9            24.99  NC-17           {Trailers, Deleted Scenes}   \n",
       "\n",
       "          last_update  \n",
       "0 2006-02-15 05:03:42  \n",
       "1 2006-02-15 05:03:42  \n",
       "2 2006-02-15 05:03:42  \n",
       "3 2006-02-15 05:03:42  \n",
       "4 2006-02-15 05:03:42  \n",
       "5 2006-02-15 05:03:42  \n",
       "6 2006-02-15 05:03:42  \n",
       "7 2006-02-15 05:03:42  \n",
       "8 2006-02-15 05:03:42  \n",
       "9 2006-02-15 05:03:42  "
      ],
      "text/html": "<div>\n<style scoped>\n    .dataframe tbody tr th:only-of-type {\n        vertical-align: middle;\n    }\n\n    .dataframe tbody tr th {\n        vertical-align: top;\n    }\n\n    .dataframe thead th {\n        text-align: right;\n    }\n</style>\n<table border=\"1\" class=\"dataframe\">\n  <thead>\n    <tr style=\"text-align: right;\">\n      <th></th>\n      <th>film_id</th>\n      <th>title</th>\n      <th>description</th>\n      <th>release_year</th>\n      <th>language_id</th>\n      <th>original_language_id</th>\n      <th>rental_duration</th>\n      <th>rental_rate</th>\n      <th>length</th>\n      <th>replacement_cost</th>\n      <th>rating</th>\n      <th>special_features</th>\n      <th>last_update</th>\n    </tr>\n  </thead>\n  <tbody>\n    <tr>\n      <th>0</th>\n      <td>1</td>\n      <td>ACADEMY DINOSAUR</td>\n      <td>A Epic Drama of a Feminist And a Mad Scientist...</td>\n      <td>2006</td>\n      <td>1</td>\n      <td>None</td>\n      <td>6</td>\n      <td>0.99</td>\n      <td>86</td>\n      <td>20.99</td>\n      <td>PG</td>\n      <td>{Deleted Scenes, Behind the Scenes}</td>\n      <td>2006-02-15 05:03:42</td>\n    </tr>\n    <tr>\n      <th>1</th>\n      <td>2</td>\n      <td>ACE GOLDFINGER</td>\n      <td>A Astounding Epistle of a Database Administrat...</td>\n      <td>2006</td>\n      <td>1</td>\n      <td>None</td>\n      <td>3</td>\n      <td>4.99</td>\n      <td>48</td>\n      <td>12.99</td>\n      <td>G</td>\n      <td>{Trailers, Deleted Scenes}</td>\n      <td>2006-02-15 05:03:42</td>\n    </tr>\n    <tr>\n      <th>2</th>\n      <td>3</td>\n      <td>ADAPTATION HOLES</td>\n      <td>A Astounding Reflection of a Lumberjack And a ...</td>\n      <td>2006</td>\n      <td>1</td>\n      <td>None</td>\n      <td>7</td>\n      <td>2.99</td>\n      <td>50</td>\n      <td>18.99</td>\n      <td>NC-17</td>\n      <td>{Trailers, Deleted Scenes}</td>\n      <td>2006-02-15 05:03:42</td>\n    </tr>\n    <tr>\n      <th>3</th>\n      <td>4</td>\n      <td>AFFAIR PREJUDICE</td>\n      <td>A Fanciful Documentary of a Frisbee And a Lumb...</td>\n      <td>2006</td>\n      <td>1</td>\n      <td>None</td>\n      <td>5</td>\n      <td>2.99</td>\n      <td>117</td>\n      <td>26.99</td>\n      <td>G</td>\n      <td>{Commentaries, Behind the Scenes}</td>\n      <td>2006-02-15 05:03:42</td>\n    </tr>\n    <tr>\n      <th>4</th>\n      <td>5</td>\n      <td>AFRICAN EGG</td>\n      <td>A Fast-Paced Documentary of a Pastry Chef And ...</td>\n      <td>2006</td>\n      <td>1</td>\n      <td>None</td>\n      <td>6</td>\n      <td>2.99</td>\n      <td>130</td>\n      <td>22.99</td>\n      <td>G</td>\n      <td>{Deleted Scenes}</td>\n      <td>2006-02-15 05:03:42</td>\n    </tr>\n    <tr>\n      <th>5</th>\n      <td>6</td>\n      <td>AGENT TRUMAN</td>\n      <td>A Intrepid Panorama of a Robot And a Boy who m...</td>\n      <td>2006</td>\n      <td>1</td>\n      <td>None</td>\n      <td>3</td>\n      <td>2.99</td>\n      <td>169</td>\n      <td>17.99</td>\n      <td>PG</td>\n      <td>{Deleted Scenes}</td>\n      <td>2006-02-15 05:03:42</td>\n    </tr>\n    <tr>\n      <th>6</th>\n      <td>7</td>\n      <td>AIRPLANE SIERRA</td>\n      <td>A Touching Saga of a Hunter And a Butler who m...</td>\n      <td>2006</td>\n      <td>1</td>\n      <td>None</td>\n      <td>6</td>\n      <td>4.99</td>\n      <td>62</td>\n      <td>28.99</td>\n      <td>PG-13</td>\n      <td>{Trailers, Deleted Scenes}</td>\n      <td>2006-02-15 05:03:42</td>\n    </tr>\n    <tr>\n      <th>7</th>\n      <td>8</td>\n      <td>AIRPORT POLLOCK</td>\n      <td>A Epic Tale of a Moose And a Girl who must Con...</td>\n      <td>2006</td>\n      <td>1</td>\n      <td>None</td>\n      <td>6</td>\n      <td>4.99</td>\n      <td>54</td>\n      <td>15.99</td>\n      <td>R</td>\n      <td>{Trailers}</td>\n      <td>2006-02-15 05:03:42</td>\n    </tr>\n    <tr>\n      <th>8</th>\n      <td>9</td>\n      <td>ALABAMA DEVIL</td>\n      <td>A Thoughtful Panorama of a Database Administra...</td>\n      <td>2006</td>\n      <td>1</td>\n      <td>None</td>\n      <td>3</td>\n      <td>2.99</td>\n      <td>114</td>\n      <td>21.99</td>\n      <td>PG-13</td>\n      <td>{Trailers, Deleted Scenes}</td>\n      <td>2006-02-15 05:03:42</td>\n    </tr>\n    <tr>\n      <th>9</th>\n      <td>10</td>\n      <td>ALADDIN CALENDAR</td>\n      <td>A Action-Packed Tale of a Man And a Lumberjack...</td>\n      <td>2006</td>\n      <td>1</td>\n      <td>None</td>\n      <td>6</td>\n      <td>4.99</td>\n      <td>63</td>\n      <td>24.99</td>\n      <td>NC-17</td>\n      <td>{Trailers, Deleted Scenes}</td>\n      <td>2006-02-15 05:03:42</td>\n    </tr>\n  </tbody>\n</table>\n</div>"
     },
     "metadata": {},
     "execution_count": 7
    }
   ],
   "source": [
    "df = pd.DataFrame(result, columns = mycursor.column_names)\n",
    "df.head(10)"
   ]
  },
  {
   "cell_type": "code",
   "execution_count": 39,
   "metadata": {},
   "outputs": [
    {
     "output_type": "execute_result",
     "data": {
      "text/plain": [
       "    film_id                title  \\\n",
       "0         1     ACADEMY DINOSAUR   \n",
       "1         2       ACE GOLDFINGER   \n",
       "2         3     ADAPTATION HOLES   \n",
       "3         4     AFFAIR PREJUDICE   \n",
       "4         5          AFRICAN EGG   \n",
       "..      ...                  ...   \n",
       "95       96        BREAKING HOME   \n",
       "96       97       BRIDE INTRIGUE   \n",
       "97       98    BRIGHT ENCOUNTERS   \n",
       "98       99  BRINGING HYSTERICAL   \n",
       "99      100      BROOKLYN DESERT   \n",
       "\n",
       "                                          description  release_year  \\\n",
       "0   A Epic Drama of a Feminist And a Mad Scientist...          2006   \n",
       "1   A Astounding Epistle of a Database Administrat...          2006   \n",
       "2   A Astounding Reflection of a Lumberjack And a ...          2006   \n",
       "3   A Fanciful Documentary of a Frisbee And a Lumb...          2006   \n",
       "4   A Fast-Paced Documentary of a Pastry Chef And ...          2006   \n",
       "..                                                ...           ...   \n",
       "95  A Beautiful Display of a Secret Agent And a Mo...          2006   \n",
       "96  A Epic Tale of a Robot And a Monkey who must V...          2006   \n",
       "97  A Fateful Yarn of a Lumberjack And a Feminist ...          2006   \n",
       "98  A Fateful Saga of a A Shark And a Technical Wr...          2006   \n",
       "99  A Beautiful Drama of a Dentist And a Composer ...          2006   \n",
       "\n",
       "    language_id original_language_id  rental_duration rental_rate  length  \\\n",
       "0             1                 None                6        0.99      86   \n",
       "1             1                 None                3        4.99      48   \n",
       "2             1                 None                7        2.99      50   \n",
       "3             1                 None                5        2.99     117   \n",
       "4             1                 None                6        2.99     130   \n",
       "..          ...                  ...              ...         ...     ...   \n",
       "95            1                 None                4        2.99     169   \n",
       "96            1                 None                7        0.99      56   \n",
       "97            1                 None                4        4.99      73   \n",
       "98            1                 None                7        2.99     136   \n",
       "99            1                 None                7        4.99     161   \n",
       "\n",
       "   replacement_cost rating                             special_features  \\\n",
       "0             20.99     PG          {Deleted Scenes, Behind the Scenes}   \n",
       "1             12.99      G                   {Trailers, Deleted Scenes}   \n",
       "2             18.99  NC-17                   {Trailers, Deleted Scenes}   \n",
       "3             26.99      G            {Commentaries, Behind the Scenes}   \n",
       "4             22.99      G                             {Deleted Scenes}   \n",
       "..              ...    ...                                          ...   \n",
       "95            21.99  PG-13                     {Commentaries, Trailers}   \n",
       "96            24.99      G  {Commentaries, Trailers, Behind the Scenes}   \n",
       "97            12.99  PG-13                                   {Trailers}   \n",
       "98            14.99     PG                                   {Trailers}   \n",
       "99            21.99      R                               {Commentaries}   \n",
       "\n",
       "           last_update  \n",
       "0  2006-02-15 05:03:42  \n",
       "1  2006-02-15 05:03:42  \n",
       "2  2006-02-15 05:03:42  \n",
       "3  2006-02-15 05:03:42  \n",
       "4  2006-02-15 05:03:42  \n",
       "..                 ...  \n",
       "95 2006-02-15 05:03:42  \n",
       "96 2006-02-15 05:03:42  \n",
       "97 2006-02-15 05:03:42  \n",
       "98 2006-02-15 05:03:42  \n",
       "99 2006-02-15 05:03:42  \n",
       "\n",
       "[100 rows x 13 columns]"
      ],
      "text/html": "<div>\n<style scoped>\n    .dataframe tbody tr th:only-of-type {\n        vertical-align: middle;\n    }\n\n    .dataframe tbody tr th {\n        vertical-align: top;\n    }\n\n    .dataframe thead th {\n        text-align: right;\n    }\n</style>\n<table border=\"1\" class=\"dataframe\">\n  <thead>\n    <tr style=\"text-align: right;\">\n      <th></th>\n      <th>film_id</th>\n      <th>title</th>\n      <th>description</th>\n      <th>release_year</th>\n      <th>language_id</th>\n      <th>original_language_id</th>\n      <th>rental_duration</th>\n      <th>rental_rate</th>\n      <th>length</th>\n      <th>replacement_cost</th>\n      <th>rating</th>\n      <th>special_features</th>\n      <th>last_update</th>\n    </tr>\n  </thead>\n  <tbody>\n    <tr>\n      <th>0</th>\n      <td>1</td>\n      <td>ACADEMY DINOSAUR</td>\n      <td>A Epic Drama of a Feminist And a Mad Scientist...</td>\n      <td>2006</td>\n      <td>1</td>\n      <td>None</td>\n      <td>6</td>\n      <td>0.99</td>\n      <td>86</td>\n      <td>20.99</td>\n      <td>PG</td>\n      <td>{Deleted Scenes, Behind the Scenes}</td>\n      <td>2006-02-15 05:03:42</td>\n    </tr>\n    <tr>\n      <th>1</th>\n      <td>2</td>\n      <td>ACE GOLDFINGER</td>\n      <td>A Astounding Epistle of a Database Administrat...</td>\n      <td>2006</td>\n      <td>1</td>\n      <td>None</td>\n      <td>3</td>\n      <td>4.99</td>\n      <td>48</td>\n      <td>12.99</td>\n      <td>G</td>\n      <td>{Trailers, Deleted Scenes}</td>\n      <td>2006-02-15 05:03:42</td>\n    </tr>\n    <tr>\n      <th>2</th>\n      <td>3</td>\n      <td>ADAPTATION HOLES</td>\n      <td>A Astounding Reflection of a Lumberjack And a ...</td>\n      <td>2006</td>\n      <td>1</td>\n      <td>None</td>\n      <td>7</td>\n      <td>2.99</td>\n      <td>50</td>\n      <td>18.99</td>\n      <td>NC-17</td>\n      <td>{Trailers, Deleted Scenes}</td>\n      <td>2006-02-15 05:03:42</td>\n    </tr>\n    <tr>\n      <th>3</th>\n      <td>4</td>\n      <td>AFFAIR PREJUDICE</td>\n      <td>A Fanciful Documentary of a Frisbee And a Lumb...</td>\n      <td>2006</td>\n      <td>1</td>\n      <td>None</td>\n      <td>5</td>\n      <td>2.99</td>\n      <td>117</td>\n      <td>26.99</td>\n      <td>G</td>\n      <td>{Commentaries, Behind the Scenes}</td>\n      <td>2006-02-15 05:03:42</td>\n    </tr>\n    <tr>\n      <th>4</th>\n      <td>5</td>\n      <td>AFRICAN EGG</td>\n      <td>A Fast-Paced Documentary of a Pastry Chef And ...</td>\n      <td>2006</td>\n      <td>1</td>\n      <td>None</td>\n      <td>6</td>\n      <td>2.99</td>\n      <td>130</td>\n      <td>22.99</td>\n      <td>G</td>\n      <td>{Deleted Scenes}</td>\n      <td>2006-02-15 05:03:42</td>\n    </tr>\n    <tr>\n      <th>...</th>\n      <td>...</td>\n      <td>...</td>\n      <td>...</td>\n      <td>...</td>\n      <td>...</td>\n      <td>...</td>\n      <td>...</td>\n      <td>...</td>\n      <td>...</td>\n      <td>...</td>\n      <td>...</td>\n      <td>...</td>\n      <td>...</td>\n    </tr>\n    <tr>\n      <th>95</th>\n      <td>96</td>\n      <td>BREAKING HOME</td>\n      <td>A Beautiful Display of a Secret Agent And a Mo...</td>\n      <td>2006</td>\n      <td>1</td>\n      <td>None</td>\n      <td>4</td>\n      <td>2.99</td>\n      <td>169</td>\n      <td>21.99</td>\n      <td>PG-13</td>\n      <td>{Commentaries, Trailers}</td>\n      <td>2006-02-15 05:03:42</td>\n    </tr>\n    <tr>\n      <th>96</th>\n      <td>97</td>\n      <td>BRIDE INTRIGUE</td>\n      <td>A Epic Tale of a Robot And a Monkey who must V...</td>\n      <td>2006</td>\n      <td>1</td>\n      <td>None</td>\n      <td>7</td>\n      <td>0.99</td>\n      <td>56</td>\n      <td>24.99</td>\n      <td>G</td>\n      <td>{Commentaries, Trailers, Behind the Scenes}</td>\n      <td>2006-02-15 05:03:42</td>\n    </tr>\n    <tr>\n      <th>97</th>\n      <td>98</td>\n      <td>BRIGHT ENCOUNTERS</td>\n      <td>A Fateful Yarn of a Lumberjack And a Feminist ...</td>\n      <td>2006</td>\n      <td>1</td>\n      <td>None</td>\n      <td>4</td>\n      <td>4.99</td>\n      <td>73</td>\n      <td>12.99</td>\n      <td>PG-13</td>\n      <td>{Trailers}</td>\n      <td>2006-02-15 05:03:42</td>\n    </tr>\n    <tr>\n      <th>98</th>\n      <td>99</td>\n      <td>BRINGING HYSTERICAL</td>\n      <td>A Fateful Saga of a A Shark And a Technical Wr...</td>\n      <td>2006</td>\n      <td>1</td>\n      <td>None</td>\n      <td>7</td>\n      <td>2.99</td>\n      <td>136</td>\n      <td>14.99</td>\n      <td>PG</td>\n      <td>{Trailers}</td>\n      <td>2006-02-15 05:03:42</td>\n    </tr>\n    <tr>\n      <th>99</th>\n      <td>100</td>\n      <td>BROOKLYN DESERT</td>\n      <td>A Beautiful Drama of a Dentist And a Composer ...</td>\n      <td>2006</td>\n      <td>1</td>\n      <td>None</td>\n      <td>7</td>\n      <td>4.99</td>\n      <td>161</td>\n      <td>21.99</td>\n      <td>R</td>\n      <td>{Commentaries}</td>\n      <td>2006-02-15 05:03:42</td>\n    </tr>\n  </tbody>\n</table>\n<p>100 rows × 13 columns</p>\n</div>"
     },
     "metadata": {},
     "execution_count": 39
    }
   ],
   "source": [
    "df.head(100)"
   ]
  },
  {
   "cell_type": "code",
   "execution_count": 57,
   "metadata": {},
   "outputs": [
    {
     "output_type": "error",
     "ename": "NameError",
     "evalue": "name 'sql_df' is not defined",
     "traceback": [
      "\u001b[1;31m---------------------------------------------------------------------------\u001b[0m",
      "\u001b[1;31mNameError\u001b[0m                                 Traceback (most recent call last)",
      "\u001b[1;32m<ipython-input-57-f817e91b3363>\u001b[0m in \u001b[0;36m<module>\u001b[1;34m\u001b[0m\n\u001b[1;32m----> 1\u001b[1;33m sql_df (\n\u001b[0m\u001b[0;32m      2\u001b[0m '''\n\u001b[0;32m      3\u001b[0m \u001b[0mselect\u001b[0m \u001b[1;33m*\u001b[0m \u001b[1;32mfrom\u001b[0m \u001b[0mfilm\u001b[0m\u001b[1;33m\u001b[0m\u001b[1;33m\u001b[0m\u001b[0m\n\u001b[0;32m      4\u001b[0m '''\n\u001b[0;32m      5\u001b[0m )\n",
      "\u001b[1;31mNameError\u001b[0m: name 'sql_df' is not defined"
     ]
    }
   ],
   "source": [
    "sql_df (\n",
    "'''\n",
    "select * from film\n",
    "'''\n",
    ")"
   ]
  },
  {
   "cell_type": "code",
   "execution_count": 58,
   "metadata": {},
   "outputs": [
    {
     "output_type": "execute_result",
     "data": {
      "text/plain": [
       "   film_id             title  \\\n",
       "0        1  ACADEMY DINOSAUR   \n",
       "1        2    ACE GOLDFINGER   \n",
       "2        3  ADAPTATION HOLES   \n",
       "3        4  AFFAIR PREJUDICE   \n",
       "4        5       AFRICAN EGG   \n",
       "5        6      AGENT TRUMAN   \n",
       "6        7   AIRPLANE SIERRA   \n",
       "7        8   AIRPORT POLLOCK   \n",
       "8        9     ALABAMA DEVIL   \n",
       "9       10  ALADDIN CALENDAR   \n",
       "\n",
       "                                         description  release_year  \\\n",
       "0  A Epic Drama of a Feminist And a Mad Scientist...          2006   \n",
       "1  A Astounding Epistle of a Database Administrat...          2006   \n",
       "2  A Astounding Reflection of a Lumberjack And a ...          2006   \n",
       "3  A Fanciful Documentary of a Frisbee And a Lumb...          2006   \n",
       "4  A Fast-Paced Documentary of a Pastry Chef And ...          2006   \n",
       "5  A Intrepid Panorama of a Robot And a Boy who m...          2006   \n",
       "6  A Touching Saga of a Hunter And a Butler who m...          2006   \n",
       "7  A Epic Tale of a Moose And a Girl who must Con...          2006   \n",
       "8  A Thoughtful Panorama of a Database Administra...          2006   \n",
       "9  A Action-Packed Tale of a Man And a Lumberjack...          2006   \n",
       "\n",
       "   language_id original_language_id  rental_duration rental_rate  length  \\\n",
       "0            1                 None                6        0.99      86   \n",
       "1            1                 None                3        4.99      48   \n",
       "2            1                 None                7        2.99      50   \n",
       "3            1                 None                5        2.99     117   \n",
       "4            1                 None                6        2.99     130   \n",
       "5            1                 None                3        2.99     169   \n",
       "6            1                 None                6        4.99      62   \n",
       "7            1                 None                6        4.99      54   \n",
       "8            1                 None                3        2.99     114   \n",
       "9            1                 None                6        4.99      63   \n",
       "\n",
       "  replacement_cost rating                     special_features  \\\n",
       "0            20.99     PG  {Deleted Scenes, Behind the Scenes}   \n",
       "1            12.99      G           {Trailers, Deleted Scenes}   \n",
       "2            18.99  NC-17           {Trailers, Deleted Scenes}   \n",
       "3            26.99      G    {Commentaries, Behind the Scenes}   \n",
       "4            22.99      G                     {Deleted Scenes}   \n",
       "5            17.99     PG                     {Deleted Scenes}   \n",
       "6            28.99  PG-13           {Trailers, Deleted Scenes}   \n",
       "7            15.99      R                           {Trailers}   \n",
       "8            21.99  PG-13           {Trailers, Deleted Scenes}   \n",
       "9            24.99  NC-17           {Trailers, Deleted Scenes}   \n",
       "\n",
       "          last_update  \n",
       "0 2006-02-15 05:03:42  \n",
       "1 2006-02-15 05:03:42  \n",
       "2 2006-02-15 05:03:42  \n",
       "3 2006-02-15 05:03:42  \n",
       "4 2006-02-15 05:03:42  \n",
       "5 2006-02-15 05:03:42  \n",
       "6 2006-02-15 05:03:42  \n",
       "7 2006-02-15 05:03:42  \n",
       "8 2006-02-15 05:03:42  \n",
       "9 2006-02-15 05:03:42  "
      ],
      "text/html": "<div>\n<style scoped>\n    .dataframe tbody tr th:only-of-type {\n        vertical-align: middle;\n    }\n\n    .dataframe tbody tr th {\n        vertical-align: top;\n    }\n\n    .dataframe thead th {\n        text-align: right;\n    }\n</style>\n<table border=\"1\" class=\"dataframe\">\n  <thead>\n    <tr style=\"text-align: right;\">\n      <th></th>\n      <th>film_id</th>\n      <th>title</th>\n      <th>description</th>\n      <th>release_year</th>\n      <th>language_id</th>\n      <th>original_language_id</th>\n      <th>rental_duration</th>\n      <th>rental_rate</th>\n      <th>length</th>\n      <th>replacement_cost</th>\n      <th>rating</th>\n      <th>special_features</th>\n      <th>last_update</th>\n    </tr>\n  </thead>\n  <tbody>\n    <tr>\n      <th>0</th>\n      <td>1</td>\n      <td>ACADEMY DINOSAUR</td>\n      <td>A Epic Drama of a Feminist And a Mad Scientist...</td>\n      <td>2006</td>\n      <td>1</td>\n      <td>None</td>\n      <td>6</td>\n      <td>0.99</td>\n      <td>86</td>\n      <td>20.99</td>\n      <td>PG</td>\n      <td>{Deleted Scenes, Behind the Scenes}</td>\n      <td>2006-02-15 05:03:42</td>\n    </tr>\n    <tr>\n      <th>1</th>\n      <td>2</td>\n      <td>ACE GOLDFINGER</td>\n      <td>A Astounding Epistle of a Database Administrat...</td>\n      <td>2006</td>\n      <td>1</td>\n      <td>None</td>\n      <td>3</td>\n      <td>4.99</td>\n      <td>48</td>\n      <td>12.99</td>\n      <td>G</td>\n      <td>{Trailers, Deleted Scenes}</td>\n      <td>2006-02-15 05:03:42</td>\n    </tr>\n    <tr>\n      <th>2</th>\n      <td>3</td>\n      <td>ADAPTATION HOLES</td>\n      <td>A Astounding Reflection of a Lumberjack And a ...</td>\n      <td>2006</td>\n      <td>1</td>\n      <td>None</td>\n      <td>7</td>\n      <td>2.99</td>\n      <td>50</td>\n      <td>18.99</td>\n      <td>NC-17</td>\n      <td>{Trailers, Deleted Scenes}</td>\n      <td>2006-02-15 05:03:42</td>\n    </tr>\n    <tr>\n      <th>3</th>\n      <td>4</td>\n      <td>AFFAIR PREJUDICE</td>\n      <td>A Fanciful Documentary of a Frisbee And a Lumb...</td>\n      <td>2006</td>\n      <td>1</td>\n      <td>None</td>\n      <td>5</td>\n      <td>2.99</td>\n      <td>117</td>\n      <td>26.99</td>\n      <td>G</td>\n      <td>{Commentaries, Behind the Scenes}</td>\n      <td>2006-02-15 05:03:42</td>\n    </tr>\n    <tr>\n      <th>4</th>\n      <td>5</td>\n      <td>AFRICAN EGG</td>\n      <td>A Fast-Paced Documentary of a Pastry Chef And ...</td>\n      <td>2006</td>\n      <td>1</td>\n      <td>None</td>\n      <td>6</td>\n      <td>2.99</td>\n      <td>130</td>\n      <td>22.99</td>\n      <td>G</td>\n      <td>{Deleted Scenes}</td>\n      <td>2006-02-15 05:03:42</td>\n    </tr>\n    <tr>\n      <th>5</th>\n      <td>6</td>\n      <td>AGENT TRUMAN</td>\n      <td>A Intrepid Panorama of a Robot And a Boy who m...</td>\n      <td>2006</td>\n      <td>1</td>\n      <td>None</td>\n      <td>3</td>\n      <td>2.99</td>\n      <td>169</td>\n      <td>17.99</td>\n      <td>PG</td>\n      <td>{Deleted Scenes}</td>\n      <td>2006-02-15 05:03:42</td>\n    </tr>\n    <tr>\n      <th>6</th>\n      <td>7</td>\n      <td>AIRPLANE SIERRA</td>\n      <td>A Touching Saga of a Hunter And a Butler who m...</td>\n      <td>2006</td>\n      <td>1</td>\n      <td>None</td>\n      <td>6</td>\n      <td>4.99</td>\n      <td>62</td>\n      <td>28.99</td>\n      <td>PG-13</td>\n      <td>{Trailers, Deleted Scenes}</td>\n      <td>2006-02-15 05:03:42</td>\n    </tr>\n    <tr>\n      <th>7</th>\n      <td>8</td>\n      <td>AIRPORT POLLOCK</td>\n      <td>A Epic Tale of a Moose And a Girl who must Con...</td>\n      <td>2006</td>\n      <td>1</td>\n      <td>None</td>\n      <td>6</td>\n      <td>4.99</td>\n      <td>54</td>\n      <td>15.99</td>\n      <td>R</td>\n      <td>{Trailers}</td>\n      <td>2006-02-15 05:03:42</td>\n    </tr>\n    <tr>\n      <th>8</th>\n      <td>9</td>\n      <td>ALABAMA DEVIL</td>\n      <td>A Thoughtful Panorama of a Database Administra...</td>\n      <td>2006</td>\n      <td>1</td>\n      <td>None</td>\n      <td>3</td>\n      <td>2.99</td>\n      <td>114</td>\n      <td>21.99</td>\n      <td>PG-13</td>\n      <td>{Trailers, Deleted Scenes}</td>\n      <td>2006-02-15 05:03:42</td>\n    </tr>\n    <tr>\n      <th>9</th>\n      <td>10</td>\n      <td>ALADDIN CALENDAR</td>\n      <td>A Action-Packed Tale of a Man And a Lumberjack...</td>\n      <td>2006</td>\n      <td>1</td>\n      <td>None</td>\n      <td>6</td>\n      <td>4.99</td>\n      <td>63</td>\n      <td>24.99</td>\n      <td>NC-17</td>\n      <td>{Trailers, Deleted Scenes}</td>\n      <td>2006-02-15 05:03:42</td>\n    </tr>\n  </tbody>\n</table>\n</div>"
     },
     "metadata": {},
     "execution_count": 58
    }
   ],
   "source": [
    "df.head(10)"
   ]
  },
  {
   "cell_type": "code",
   "execution_count": null,
   "metadata": {},
   "outputs": [],
   "source": []
  }
 ]
}